{
  "nbformat": 4,
  "nbformat_minor": 0,
  "metadata": {
    "colab": {
      "provenance": [],
      "authorship_tag": "ABX9TyPk+gTVeCclNt28xX2xoAU6",
      "include_colab_link": true
    },
    "kernelspec": {
      "name": "python3",
      "display_name": "Python 3"
    },
    "language_info": {
      "name": "python"
    }
  },
  "cells": [
    {
      "cell_type": "markdown",
      "metadata": {
        "id": "view-in-github",
        "colab_type": "text"
      },
      "source": [
        "<a href=\"https://colab.research.google.com/github/suja14/PythonForDataScience/blob/main/Course4_Class1(Module1and2).ipynb\" target=\"_parent\"><img src=\"https://colab.research.google.com/assets/colab-badge.svg\" alt=\"Open In Colab\"/></a>"
      ]
    },
    {
      "cell_type": "code",
      "execution_count": null,
      "metadata": {
        "colab": {
          "base_uri": "https://localhost:8080/"
        },
        "id": "lFMLuyS0KBce",
        "outputId": "c8cd84ce-3b95-4327-feaa-7ed7dbf9df84"
      },
      "outputs": [
        {
          "output_type": "stream",
          "name": "stdout",
          "text": [
            "3\n",
            "pythontest\n"
          ]
        }
      ],
      "source": [
        "num1=3 #Assigning\n",
        "num1==3 #checking\n",
        "empname='pythontest'\n",
        "\n",
        "print  (num1)\n",
        "print(empname)\n",
        "\n",
        "#//* grerter   *//"
      ]
    },
    {
      "cell_type": "code",
      "source": [
        "name= \"james\"\n",
        "\n",
        "# python interrupt like J A M E S\n",
        "                        0 1 2 3 4\n",
        "                          -3-2 -1\n",
        "print(name[0]) #outpu will be J\n",
        "print(name[-1]) #output will be S\n",
        "\n",
        "#slicing\n",
        "\n",
        "\n"
      ],
      "metadata": {
        "id": "8xHJ4rfbLfw-"
      },
      "execution_count": null,
      "outputs": []
    },
    {
      "cell_type": "code",
      "source": [
        "a = \"Incomprehensibility\"\n",
        "a[0:8]\n",
        "print(a)\n",
        "#a[1:5]\n",
        "#rint (a)\n",
        "#a[2:6]\n",
        "#a[-1:3]\n",
        "len(a)\n",
        "max(a)\n",
        "min(a)"
      ],
      "metadata": {
        "colab": {
          "base_uri": "https://localhost:8080/",
          "height": 55
        },
        "id": "T517swPxMT3t",
        "outputId": "1b0cff28-b45d-434b-9b9f-e9c1658b062b"
      },
      "execution_count": null,
      "outputs": [
        {
          "output_type": "stream",
          "name": "stdout",
          "text": [
            "Incomprehensibility\n"
          ]
        },
        {
          "output_type": "execute_result",
          "data": {
            "text/plain": [
              "'I'"
            ],
            "application/vnd.google.colaboratory.intrinsic+json": {
              "type": "string"
            }
          },
          "metadata": {},
          "execution_count": 22
        }
      ]
    },
    {
      "cell_type": "code",
      "source": [
        "#function\n",
        "# in and not in\n",
        "\n",
        "s1 = \"Welcome\"\n",
        "\n",
        "\"come\" in s1 #output: True\n",
        "\n",
        "\"come\" not in s1 #output: False\n"
      ],
      "metadata": {
        "colab": {
          "base_uri": "https://localhost:8080/"
        },
        "id": "4e5I5mn0NCS8",
        "outputId": "5dd1b1e7-cc4e-41a2-c053-ad08605a935e"
      },
      "execution_count": null,
      "outputs": [
        {
          "output_type": "execute_result",
          "data": {
            "text/plain": [
              "False"
            ]
          },
          "metadata": {},
          "execution_count": 24
        }
      ]
    },
    {
      "cell_type": "code",
      "source": [
        "letter1 ='a'\n",
        "letter2='b'\n",
        "if(letter1<letter2): # compare ASCII ex 65 and 66 and print the output\n",
        "  print(\"hi\")"
      ],
      "metadata": {
        "id": "TrtTRJlxOAzN"
      },
      "execution_count": null,
      "outputs": []
    },
    {
      "cell_type": "code",
      "source": [
        "#Assuming positive index numbers, what are the index numbers of the letters Y and E?\n",
        "POPSTAR = \"DIZZY DRAKE\"\n",
        "print(POPSTAR.index(\"Y\"))\n",
        "print(POPSTAR.index(\"E\"))"
      ],
      "metadata": {
        "colab": {
          "base_uri": "https://localhost:8080/"
        },
        "id": "JxaAW8O8OW2c",
        "outputId": "8e90c147-a228-4a1d-e599-57c08f821f4a"
      },
      "execution_count": null,
      "outputs": [
        {
          "output_type": "stream",
          "name": "stdout",
          "text": [
            "4\n",
            "10\n"
          ]
        }
      ]
    },
    {
      "cell_type": "code",
      "source": [
        "#What is the result of the input POPSTAR[3] ? - Answer  'Z'\n",
        "POPSTAR = \"DIZZY DRAKE\"\n",
        "POPSTAR[3]"
      ],
      "metadata": {
        "id": "RbXYYLJ_Rvxo"
      },
      "execution_count": null,
      "outputs": []
    },
    {
      "cell_type": "code",
      "source": [
        "#What input returns the result “K” ? - Answer POPSTAR[-2]\n",
        "POPSTAR[-2]"
      ],
      "metadata": {
        "colab": {
          "base_uri": "https://localhost:8080/",
          "height": 36
        },
        "id": "l2cd-KESRnbQ",
        "outputId": "4c56c6e3-1a4d-42de-ba92-dc9a60a41ee4"
      },
      "execution_count": null,
      "outputs": [
        {
          "output_type": "execute_result",
          "data": {
            "text/plain": [
              "'K'"
            ],
            "application/vnd.google.colaboratory.intrinsic+json": {
              "type": "string"
            }
          },
          "metadata": {},
          "execution_count": 37
        }
      ]
    },
    {
      "cell_type": "code",
      "source": [
        "#What is the result of the input POPSTAR[0:6] ? Answer DIZZY\n",
        "POPSTAR[0:6]"
      ],
      "metadata": {
        "colab": {
          "base_uri": "https://localhost:8080/",
          "height": 36
        },
        "id": "BOLbJPirRw6w",
        "outputId": "4ad2a895-8646-49ac-dd1d-a378f61c20a7"
      },
      "execution_count": null,
      "outputs": [
        {
          "output_type": "execute_result",
          "data": {
            "text/plain": [
              "'DIZZY '"
            ],
            "application/vnd.google.colaboratory.intrinsic+json": {
              "type": "string"
            }
          },
          "metadata": {},
          "execution_count": 38
        }
      ]
    },
    {
      "cell_type": "code",
      "source": [
        "#What input returns the result “DRAKE” ? Answer POPSTAR[6:11]\n",
        "POPSTAR[6:11]"
      ],
      "metadata": {
        "colab": {
          "base_uri": "https://localhost:8080/",
          "height": 36
        },
        "id": "eW3VhB0_R8CW",
        "outputId": "ef90cee6-160b-4342-fde0-bff564ffe79f"
      },
      "execution_count": null,
      "outputs": [
        {
          "output_type": "execute_result",
          "data": {
            "text/plain": [
              "'DRAKE'"
            ],
            "application/vnd.google.colaboratory.intrinsic+json": {
              "type": "string"
            }
          },
          "metadata": {},
          "execution_count": 40
        }
      ]
    },
    {
      "cell_type": "code",
      "source": [
        "#Now, for the same string, assuming negative index numbers:\n",
        "#What are the index numbers of the letter Y and I?\n",
        "POPSTAR = \"DIZZY DRAKE\"\n",
        "print(POPSTAR.index(\"Y\"))\n",
        "print(POPSTAR.index(\"I\"))\n",
        "len(POPSTAR)"
      ],
      "metadata": {
        "colab": {
          "base_uri": "https://localhost:8080/"
        },
        "id": "ObtPkpgSSRIR",
        "outputId": "35d7bbc8-77be-45c7-f233-84f1a27b71f9"
      },
      "execution_count": null,
      "outputs": [
        {
          "output_type": "stream",
          "name": "stdout",
          "text": [
            "4\n",
            "1\n"
          ]
        },
        {
          "output_type": "execute_result",
          "data": {
            "text/plain": [
              "11"
            ]
          },
          "metadata": {},
          "execution_count": 50
        }
      ]
    },
    {
      "cell_type": "code",
      "source": [
        "#What is the result of the input POPSTAR[-4]?\n",
        "POPSTAR = \"DIZZY DRAKE\"\n",
        "POPSTAR[-4]"
      ],
      "metadata": {
        "colab": {
          "base_uri": "https://localhost:8080/",
          "height": 36
        },
        "id": "mHnWH3QYSS83",
        "outputId": "9f7f2890-5408-4403-dd20-78d649c584a4"
      },
      "execution_count": null,
      "outputs": [
        {
          "output_type": "execute_result",
          "data": {
            "text/plain": [
              "'R'"
            ],
            "application/vnd.google.colaboratory.intrinsic+json": {
              "type": "string"
            }
          },
          "metadata": {},
          "execution_count": 43
        }
      ]
    },
    {
      "cell_type": "code",
      "source": [
        "#What input returns the result 'A'?\n",
        "POPSTAR[-3]"
      ],
      "metadata": {
        "colab": {
          "base_uri": "https://localhost:8080/",
          "height": 36
        },
        "id": "qNxyvTMcSUhm",
        "outputId": "1a07f058-1708-40fa-8733-781dbbff3581"
      },
      "execution_count": null,
      "outputs": [
        {
          "output_type": "execute_result",
          "data": {
            "text/plain": [
              "'A'"
            ],
            "application/vnd.google.colaboratory.intrinsic+json": {
              "type": "string"
            }
          },
          "metadata": {},
          "execution_count": 44
        }
      ]
    },
    {
      "cell_type": "code",
      "source": [
        "#What input returns the result \"RAKE\"?\n",
        "POPSTAR[-1:-4]"
      ],
      "metadata": {
        "colab": {
          "base_uri": "https://localhost:8080/",
          "height": 36
        },
        "id": "SF6Z4SAVSW5f",
        "outputId": "ec36649b-d188-40a9-f2fb-724a17f1a69f"
      },
      "execution_count": null,
      "outputs": [
        {
          "output_type": "execute_result",
          "data": {
            "text/plain": [
              "''"
            ],
            "application/vnd.google.colaboratory.intrinsic+json": {
              "type": "string"
            }
          },
          "metadata": {},
          "execution_count": 48
        }
      ]
    },
    {
      "cell_type": "code",
      "source": [
        "#Consider the string, SUCCESS = \"MAMBA MENTALITY\"\n",
        "#Assuming positive index numbers, what is the result of the input SUCCESS[::2] ?\n",
        "#What is the result of the input SUCCESS[0:10:2] ?\n",
        "#What is the result of the input SUCCESS[2:5:2] ?\n",
        "#What input returns the result “ NL” ? (*notice the space)\n",
        "#What input returns the result “A TT” ? (*notice the space)\n",
        "SUCCESS = \"MAMBA MENTALITY\"\n",
        "#print (len(SUCCESS))\n",
        "SUCCESS[0:10:2] # start from 0 and go up to 9 and then skip every second value\n",
        "#SUCCESS[2:5:2]"
      ],
      "metadata": {
        "colab": {
          "base_uri": "https://localhost:8080/",
          "height": 36
        },
        "id": "2P0pDkynUdzg",
        "outputId": "5571c078-f8ea-42d5-b286-117015b7e2f2"
      },
      "execution_count": null,
      "outputs": [
        {
          "output_type": "execute_result",
          "data": {
            "text/plain": [
              "'MMAMN'"
            ],
            "application/vnd.google.colaboratory.intrinsic+json": {
              "type": "string"
            }
          },
          "metadata": {},
          "execution_count": 58
        }
      ]
    },
    {
      "cell_type": "code",
      "source": [
        "#Consider the following variables, BOOK= “HARRY POTTER”, COMMENT= “IS A BESTSELLER”\n",
        "#If we want to create a new string that reads, “HARRY POTTER IS A BESTSELLER” what input would we use?\n",
        "#If we want to create a new string that reads, “HARRY POTTER IS A BESTSELLER AND J.K ROWLING IS A GENIUS” what input would we use?\n",
        "\n",
        "BOOK= 'HARRY POTTER'\n",
        "COMMENT= 'IS A BESTSELLER'\n",
        "\n",
        "print (BOOK + COMMENT)\n",
        "\n"
      ],
      "metadata": {
        "colab": {
          "base_uri": "https://localhost:8080/"
        },
        "id": "dIyOu5nGVTTA",
        "outputId": "772eaa4d-1d02-4123-e6c6-f6299f369dd3"
      },
      "execution_count": null,
      "outputs": [
        {
          "output_type": "stream",
          "name": "stdout",
          "text": [
            "HARRY POTTERIS A BESTSELLER\n"
          ]
        }
      ]
    },
    {
      "cell_type": "code",
      "source": [
        "#Consider the string: Siblings = \"Middle children have it the worst\"\n",
        "\n",
        "#Convert the string to upper case letters and store it in a new variable called Siblings2\n",
        "\n",
        "#Replace the word ‘worst’ with ‘best’ and store the new string in the variable Siblings3\n",
        "\n",
        "Siblings= \"Middle children have it the worst\"\n",
        "upper(Siblings)\n",
        "\n",
        "txt = \"Hello my friends\"\n",
        "\n",
        "x = txt.upper()\n",
        "\n",
        "print(x)"
      ],
      "metadata": {
        "colab": {
          "base_uri": "https://localhost:8080/",
          "height": 185
        },
        "id": "YbMy_vIUXhwc",
        "outputId": "a9f24193-55ad-4282-edb0-7be06b770c94"
      },
      "execution_count": null,
      "outputs": [
        {
          "output_type": "error",
          "ename": "NameError",
          "evalue": "name 'upper' is not defined",
          "traceback": [
            "\u001b[0;31m---------------------------------------------------------------------------\u001b[0m",
            "\u001b[0;31mNameError\u001b[0m                                 Traceback (most recent call last)",
            "\u001b[0;32m<ipython-input-73-febe633afd3c>\u001b[0m in \u001b[0;36m<cell line: 8>\u001b[0;34m()\u001b[0m\n\u001b[1;32m      6\u001b[0m \u001b[0;34m\u001b[0m\u001b[0m\n\u001b[1;32m      7\u001b[0m \u001b[0mSiblings\u001b[0m\u001b[0;34m=\u001b[0m \u001b[0;34m\"Middle children have it the worst\"\u001b[0m\u001b[0;34m\u001b[0m\u001b[0;34m\u001b[0m\u001b[0m\n\u001b[0;32m----> 8\u001b[0;31m \u001b[0mupper\u001b[0m\u001b[0;34m(\u001b[0m\u001b[0mSiblings\u001b[0m\u001b[0;34m)\u001b[0m\u001b[0;34m\u001b[0m\u001b[0;34m\u001b[0m\u001b[0m\n\u001b[0m",
            "\u001b[0;31mNameError\u001b[0m: name 'upper' is not defined"
          ]
        }
      ]
    },
    {
      "cell_type": "code",
      "source": [
        "\n",
        "#Consider the following: truth= “We can do anything we set our minds to”\n",
        "\n",
        "#Assuming positive index numbers, what is the result of the input truth.find(‘can’) ? What does this result mean?\n",
        "#What is the result of the input truth.find(‘minds’) ?\n",
        "#What is the result of the input truth.find(‘believe’) ?\n",
        "\n"
      ],
      "metadata": {
        "id": "GsgJ9xPIX-Ct"
      },
      "execution_count": null,
      "outputs": []
    },
    {
      "cell_type": "code",
      "source": [
        "#What inputs would you run to print each of the following?\n",
        "#JENNIFER LOPEZ\n",
        "#IS AN AWESOME DANCER!\n",
        "#colour ---> purple\n",
        "#The backslash \\ is so cool\n",
        "print(\"#JENNIFER LOPEZ,\\n #IS AN AWESOME DANCER! #colour ---> purple #The backslash \\ is so cool\")"
      ],
      "metadata": {
        "colab": {
          "base_uri": "https://localhost:8080/"
        },
        "id": "4_aQSzZVX_Pb",
        "outputId": "2f61bb4b-3240-4be6-9f5c-feaad5a42ef4"
      },
      "execution_count": null,
      "outputs": [
        {
          "output_type": "stream",
          "name": "stdout",
          "text": [
            "#JENNIFER LOPEZ,\n",
            " #IS AN AWESOME DANCER! #colour ---> purple #The backslash \\ is so cool\n"
          ]
        }
      ]
    },
    {
      "cell_type": "code",
      "source": [
        "from datetime import datetime\n",
        "# Get the current time\n",
        "current_time = datetime.now().strftime(\"%I:%M %p\")\n",
        "# Check if the time is 12:33 PM\n",
        "if current_time == \"12:33 PM\":\n",
        "     print(\"Turn on camera\")\n"
      ],
      "metadata": {
        "id": "FOz32wp4eBkw"
      },
      "execution_count": null,
      "outputs": []
    },
    {
      "cell_type": "code",
      "source": [
        "#Write a Python code to return your Python version\n",
        "import sys # sys is the system pakage\n",
        "print(sys.version )"
      ],
      "metadata": {
        "colab": {
          "base_uri": "https://localhost:8080/"
        },
        "id": "5HqRDVuejOg8",
        "outputId": "8d796692-bbbe-45f3-a335-e33950b6a96c"
      },
      "execution_count": null,
      "outputs": [
        {
          "output_type": "stream",
          "name": "stdout",
          "text": [
            "3.10.12 (main, Nov  6 2024, 20:22:13) [GCC 11.4.0]\n"
          ]
        }
      ]
    },
    {
      "cell_type": "code",
      "source": [
        "#Write a Python code to declare variable id=\"513\".\n",
        "#Print the following statement \"customer id =513\". [Don't use print(\"customer id\n",
        "\n",
        "id= '513'\n",
        "print(f\"customer id ={id}\") ##print (\"customer id = \",id) alternate"
      ],
      "metadata": {
        "colab": {
          "base_uri": "https://localhost:8080/"
        },
        "id": "WT3K68ZdjbTh",
        "outputId": "afff6b62-8c72-4700-c029-e0e2ed5185a9"
      },
      "execution_count": null,
      "outputs": [
        {
          "output_type": "stream",
          "name": "stdout",
          "text": [
            "customer id =  513\n",
            "customer id =513\n"
          ]
        }
      ]
    },
    {
      "cell_type": "code",
      "source": [
        "#Run the following statement, why there is an error id=id+1\n",
        "\n",
        "id= '513'\n",
        "id=id+1\n"
      ],
      "metadata": {
        "colab": {
          "base_uri": "https://localhost:8080/",
          "height": 185
        },
        "id": "qDbBfOMUj51y",
        "outputId": "22075b9e-c3fb-48e7-ad60-7f8371118970"
      },
      "execution_count": null,
      "outputs": [
        {
          "output_type": "error",
          "ename": "TypeError",
          "evalue": "can only concatenate str (not \"int\") to str",
          "traceback": [
            "\u001b[0;31m---------------------------------------------------------------------------\u001b[0m",
            "\u001b[0;31mTypeError\u001b[0m                                 Traceback (most recent call last)",
            "\u001b[0;32m<ipython-input-123-5c1482816144>\u001b[0m in \u001b[0;36m<cell line: 4>\u001b[0;34m()\u001b[0m\n\u001b[1;32m      2\u001b[0m \u001b[0;34m\u001b[0m\u001b[0m\n\u001b[1;32m      3\u001b[0m \u001b[0mid\u001b[0m\u001b[0;34m=\u001b[0m \u001b[0;34m'513'\u001b[0m\u001b[0;34m\u001b[0m\u001b[0;34m\u001b[0m\u001b[0m\n\u001b[0;32m----> 4\u001b[0;31m \u001b[0mid\u001b[0m\u001b[0;34m=\u001b[0m\u001b[0mid\u001b[0m\u001b[0;34m+\u001b[0m\u001b[0;36m1\u001b[0m\u001b[0;34m\u001b[0m\u001b[0;34m\u001b[0m\u001b[0m\n\u001b[0m",
            "\u001b[0;31mTypeError\u001b[0m: can only concatenate str (not \"int\") to str"
          ]
        }
      ]
    },
    {
      "cell_type": "code",
      "source": [
        "#Convert the variable id into an integer, increment it by 1.\n",
        "#Assign the result to variable new_id.\n",
        "#Print the new_id\n",
        "id= '513'\n",
        "new_id=(int(id)+1)\n",
        "print(new_id)"
      ],
      "metadata": {
        "colab": {
          "base_uri": "https://localhost:8080/"
        },
        "id": "lg4dp4gckQSS",
        "outputId": "315085cc-ee3c-45f0-8810-c3324a06a3c2"
      },
      "execution_count": null,
      "outputs": [
        {
          "output_type": "stream",
          "name": "stdout",
          "text": [
            "514\n"
          ]
        }
      ]
    },
    {
      "cell_type": "code",
      "source": [
        "#Write a Python code to print the following string in a specific format (see the\n",
        "# Twinkle, twinkle, little star,\n",
        "#     How I wonder what you are!\n",
        "#        Up above the world so high,\n",
        "#           Like a diamond in the sky.\n",
        "\n",
        "a='Twinkle, twinkle, little star'\n",
        "b='How I wonder what you are!'\n",
        "c='Up above the world so high,'\n",
        "d='Like a diamond in the sky.'\n",
        "print(a,\"\\n\"\"\\t\",b,\"\\n\"\"\\t\"\"\\t\",c,\"\\n\"\"\\t\"\"\\t\"\"\\t\",d)\n",
        "#print(\"Twinkle, twinkle, little star,\\n\\tHow I wonder what you are!,\\n\\t\\tUp above the world so high,\\n\\t\\t\\tLike a diamond in the sky.\")\n",
        "\n",
        "print"
      ],
      "metadata": {
        "colab": {
          "base_uri": "https://localhost:8080/"
        },
        "id": "QYwiE0iKkWpS",
        "outputId": "65bbc63b-4e59-477a-ddd6-619764d98026"
      },
      "execution_count": null,
      "outputs": [
        {
          "output_type": "stream",
          "name": "stdout",
          "text": [
            "Twinkle, twinkle, little star \n",
            "\t How I wonder what you are! \n",
            "\t\t Up above the world so high, \n",
            "\t\t\t Like a diamond in the sky.\n"
          ]
        },
        {
          "output_type": "execute_result",
          "data": {
            "text/plain": [
              "<function print>"
            ]
          },
          "metadata": {},
          "execution_count": 131
        }
      ]
    },
    {
      "cell_type": "code",
      "source": [
        "#Givin the following string variable, # Print the first element in the string\n",
        "course=\"Python for Data Science\"\n",
        "course[0]\n"
      ],
      "metadata": {
        "colab": {
          "base_uri": "https://localhost:8080/",
          "height": 36
        },
        "id": "jMOC80w_kacV",
        "outputId": "fed42013-111c-4915-a6ab-cbf582423109"
      },
      "execution_count": null,
      "outputs": [
        {
          "output_type": "execute_result",
          "data": {
            "text/plain": [
              "'P'"
            ],
            "application/vnd.google.colaboratory.intrinsic+json": {
              "type": "string"
            }
          },
          "metadata": {},
          "execution_count": 81
        }
      ]
    },
    {
      "cell_type": "code",
      "source": [
        "# Print the element on the 13th index in the string\n",
        "course[13]"
      ],
      "metadata": {
        "colab": {
          "base_uri": "https://localhost:8080/",
          "height": 36
        },
        "id": "0-m9aB6TkcNY",
        "outputId": "a21a4549-04d7-431c-95a7-1920bde5c3b8"
      },
      "execution_count": null,
      "outputs": [
        {
          "output_type": "execute_result",
          "data": {
            "text/plain": [
              "'t'"
            ],
            "application/vnd.google.colaboratory.intrinsic+json": {
              "type": "string"
            }
          },
          "metadata": {},
          "execution_count": 82
        }
      ]
    },
    {
      "cell_type": "code",
      "source": [
        "# Find the length of string\n",
        "len(course)"
      ],
      "metadata": {
        "colab": {
          "base_uri": "https://localhost:8080/"
        },
        "id": "_GEV2Kaikcw6",
        "outputId": "504f1ab7-b360-413f-96b1-c16db8e0490b"
      },
      "execution_count": null,
      "outputs": [
        {
          "output_type": "execute_result",
          "data": {
            "text/plain": [
              "23"
            ]
          },
          "metadata": {},
          "execution_count": 83
        }
      ]
    },
    {
      "cell_type": "code",
      "source": [
        "# Print the last element in the string [use negative index]\n",
        "print(course[-1]) # course[-1]"
      ],
      "metadata": {
        "colab": {
          "base_uri": "https://localhost:8080/"
        },
        "id": "gwERRWKnkgTg",
        "outputId": "a816f240-6925-4bab-8ce5-03ba7d2f866c"
      },
      "execution_count": null,
      "outputs": [
        {
          "output_type": "stream",
          "name": "stdout",
          "text": [
            "e\n"
          ]
        }
      ]
    },
    {
      "cell_type": "code",
      "source": [
        "# Take the slice on variable course with only index 11 to index 14\n",
        "course[11:14]"
      ],
      "metadata": {
        "colab": {
          "base_uri": "https://localhost:8080/",
          "height": 36
        },
        "id": "FEFr1Zs9kgvB",
        "outputId": "97166736-a5d5-4425-e70d-2e7480944633"
      },
      "execution_count": null,
      "outputs": [
        {
          "output_type": "execute_result",
          "data": {
            "text/plain": [
              "'Dat'"
            ],
            "application/vnd.google.colaboratory.intrinsic+json": {
              "type": "string"
            }
          },
          "metadata": {},
          "execution_count": 85
        }
      ]
    },
    {
      "cell_type": "code",
      "source": [
        "# Get every third element in the range from index 0 to index 20\n",
        "course[0:20:3]"
      ],
      "metadata": {
        "colab": {
          "base_uri": "https://localhost:8080/",
          "height": 36
        },
        "id": "IBUWv6L2kikw",
        "outputId": "d7d5ad44-4cca-462b-b97b-683bf589f84b"
      },
      "execution_count": null,
      "outputs": [
        {
          "output_type": "execute_result",
          "data": {
            "text/plain": [
              "'Ph ra i'"
            ],
            "application/vnd.google.colaboratory.intrinsic+json": {
              "type": "string"
            }
          },
          "metadata": {},
          "execution_count": 127
        }
      ]
    },
    {
      "cell_type": "code",
      "source": [
        "# Concatenate course string with \", AI & Development\"\n",
        "course=\"Python for Data Science\"\n",
        "course=course + \", AI & Development\"\n",
        "print(course)\n"
      ],
      "metadata": {
        "colab": {
          "base_uri": "https://localhost:8080/"
        },
        "id": "9SBBnlH_kkOw",
        "outputId": "f55db446-a934-422c-fd66-c828f51558a9"
      },
      "execution_count": null,
      "outputs": [
        {
          "output_type": "stream",
          "name": "stdout",
          "text": [
            "Python for Data Science, AI & Development\n"
          ]
        }
      ]
    },
    {
      "cell_type": "code",
      "source": [
        "# Replace all the spaces with (_). New string should looks like\"Python_for_Data_S\n",
        "course=\"Python for Data Science\"\n",
        "course.replace(\" \",\"_\")"
      ],
      "metadata": {
        "colab": {
          "base_uri": "https://localhost:8080/",
          "height": 36
        },
        "id": "Y8nRm8ixklz5",
        "outputId": "990b9c34-56cb-457c-aca1-26388ed0d660"
      },
      "execution_count": null,
      "outputs": [
        {
          "output_type": "execute_result",
          "data": {
            "text/plain": [
              "'Python_for_Data_Science'"
            ],
            "application/vnd.google.colaboratory.intrinsic+json": {
              "type": "string"
            }
          },
          "metadata": {},
          "execution_count": 98
        }
      ]
    },
    {
      "cell_type": "code",
      "source": [
        "# Convert all the characters in string to upper case\n",
        "\n",
        "course=\"Python for Data Science\"\n",
        "print(course.upper())"
      ],
      "metadata": {
        "colab": {
          "base_uri": "https://localhost:8080/"
        },
        "id": "_MzQ2MOqkono",
        "outputId": "d958079c-8564-4ddd-fd2a-4e8534a8297c"
      },
      "execution_count": null,
      "outputs": [
        {
          "output_type": "stream",
          "name": "stdout",
          "text": [
            "PYTHON FOR DATA SCIENCE\n"
          ]
        }
      ]
    },
    {
      "cell_type": "code",
      "source": [
        "#TUPLE\n",
        "tup1 = ('physics', 'chemistry', 1997, 2000);\n",
        "tup2 = (1, 2, 3, 4, 5,456,1231,567 );\n",
        "tup3 = \"a\", \"b\", \"c\", \"d\"\n",
        "tup4 =(1)\n",
        "max(tup2)\n",
        "min(tup2)\n",
        "sum(tup2)\n",
        "#print (tup4)\n",
        "#print(tup1)\n",
        "#print(tup2)\n",
        "#print(tup3)"
      ],
      "metadata": {
        "colab": {
          "base_uri": "https://localhost:8080/"
        },
        "id": "tUK9BZQ4yom8",
        "outputId": "cfa50885-fe9a-4e00-e206-e3e3405e0a50"
      },
      "execution_count": 10,
      "outputs": [
        {
          "output_type": "execute_result",
          "data": {
            "text/plain": [
              "2269"
            ]
          },
          "metadata": {},
          "execution_count": 10
        }
      ]
    }
  ]
}